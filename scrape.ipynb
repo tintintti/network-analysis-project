{
 "cells": [
  {
   "cell_type": "code",
   "execution_count": 74,
   "metadata": {},
   "outputs": [],
   "source": [
    "import re\n",
    "import pickle\n",
    "from datetime import datetime\n",
    "from collections import Counter\n",
    "from bs4 import BeautifulSoup"
   ]
  },
  {
   "cell_type": "code",
   "execution_count": 90,
   "metadata": {},
   "outputs": [],
   "source": [
    "with open('data/export_19/messages.html') as f:\n",
    "    soup = BeautifulSoup(f)\n",
    "\n",
    "soups = [soup]\n",
    "for i in range(2,48):\n",
    "    with open('data/export_19/messages{}.html'.format(i)) as f:\n",
    "        soups.append(BeautifulSoup(f))"
   ]
  },
  {
   "cell_type": "code",
   "execution_count": 91,
   "metadata": {},
   "outputs": [],
   "source": [
    "replies_all = []\n",
    "for s in soups:\n",
    "    replies_all.append(s.find_all('div', 'reply_to'))"
   ]
  },
  {
   "cell_type": "code",
   "execution_count": 71,
   "metadata": {},
   "outputs": [],
   "source": [
    "reply_nw = []\n",
    "for i, rs in enumerate(replies_all):\n",
    "    for r in rs:\n",
    "        frm = r.parent.find('div', class_='from_name')\n",
    "        if frm is None:\n",
    "            continue\n",
    "        frm = frm.text.strip()\n",
    "        if 'via @' in frm:\n",
    "            frm = frm.split('via')[0].strip()\n",
    "        time = datetime.strptime(r.parent.find(class_='date')['title'], '%d.%m.%Y %H:%M:%S').isoformat()\n",
    "        to_msg = r.a['href'].split('_')[-1]\n",
    "        for j in range(i, -1, -1):\n",
    "            to = soups[j].find('div', id=to_msg)\n",
    "            if (to is not None):\n",
    "                break\n",
    "        if to is None:\n",
    "            continue\n",
    "        to_name = to.find('div', class_='from_name')\n",
    "        if to_name is None:\n",
    "            continue\n",
    "        to_name = to_name.text.strip()\n",
    "        if 'via @' in to_name:\n",
    "            to_name = to_name.split('via')[0].strip()\n",
    "        reply_nw.append((frm, to_name, time))"
   ]
  },
  {
   "cell_type": "code",
   "execution_count": 72,
   "metadata": {},
   "outputs": [],
   "source": [
    "pickle.dump(reply_nw, open('data/edges_w_timestamps.p', 'wb'))"
   ]
  },
  {
   "cell_type": "code",
   "execution_count": null,
   "metadata": {},
   "outputs": [],
   "source": [
    "edge_counts = Counter(reply_nw)\n",
    "edges = []\n",
    "for e, v in edge_counts.items():\n",
    "    edges.append((e[0], e[1], {'weight': v/msg_counts[e[0]]}))"
   ]
  },
  {
   "cell_type": "code",
   "execution_count": null,
   "metadata": {},
   "outputs": [],
   "source": [
    "pickle.dump(reply_nw, open('data/weighted_edges.p', 'wb'))"
   ]
  },
  {
   "cell_type": "code",
   "execution_count": 13,
   "metadata": {},
   "outputs": [],
   "source": [
    "users = []\n",
    "for s in soups:\n",
    "    for d in s.find_all('span', class_='details'):\n",
    "        d.decompose()\n",
    "    names = s.find_all('div', class_='from_name')\n",
    "    for n in names:\n",
    "        n = n.text.strip()\n",
    "        if 'via @' in n:\n",
    "            n = n.split('via')[0].strip()\n",
    "        users.append(n)\n",
    "msg_counts = Counter(users)"
   ]
  },
  {
   "cell_type": "code",
   "execution_count": 92,
   "metadata": {},
   "outputs": [],
   "source": [
    "dates = []\n",
    "for s in soups:\n",
    "    names = s.find_all('div', class_='from_name')\n",
    "    for n in names:\n",
    "        if n.parent is None:\n",
    "            print('asd')\n",
    "            continue\n",
    "        if n.parent.find(class_='date') is None: continue\n",
    "        date = datetime.strptime(n.parent.find(class_='date')['title'], '%d.%m.%Y %H:%M:%S').date()\n",
    "        dates.append(date)"
   ]
  },
  {
   "cell_type": "code",
   "execution_count": 95,
   "metadata": {},
   "outputs": [],
   "source": [
    "msg_counts_19 = Counter(dates)\n",
    "pickle.dump(msg_counts_19, open('data/msg_counts_date_19.p', 'wb'))"
   ]
  },
  {
   "cell_type": "code",
   "execution_count": 7,
   "metadata": {},
   "outputs": [],
   "source": [
    "pickle.dump(msg_counts, open('data/msg_counts.p', 'wb'))"
   ]
  }
 ],
 "metadata": {
  "kernelspec": {
   "display_name": "Python 3",
   "language": "python",
   "name": "python3"
  },
  "language_info": {
   "codemirror_mode": {
    "name": "ipython",
    "version": 3
   },
   "file_extension": ".py",
   "mimetype": "text/x-python",
   "name": "python",
   "nbconvert_exporter": "python",
   "pygments_lexer": "ipython3",
   "version": "3.7.1"
  }
 },
 "nbformat": 4,
 "nbformat_minor": 2
}
